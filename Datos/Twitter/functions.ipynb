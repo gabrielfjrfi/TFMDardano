{
  "nbformat": 4,
  "nbformat_minor": 0,
  "metadata": {
    "colab": {
      "name": "functions.ipynb",
      "provenance": [],
      "collapsed_sections": []
    },
    "kernelspec": {
      "name": "python3",
      "display_name": "Python 3"
    },
    "language_info": {
      "name": "python"
    }
  },
  "cells": [
    {
      "cell_type": "code",
      "metadata": {
        "id": "uDm_cz3Pngyf"
      },
      "source": [
        "def cleanTweet(tw_list):\n",
        "\n",
        "  #Renombramos las columnas\n",
        "  n = tw_list.columns[1]\n",
        "  tw_list.columns = ['original',n]\n",
        "\n",
        "  #Quitamos las filas con NA en clase\n",
        "  tw_list = tw_list[tw_list[n].notna()]\n",
        "\n",
        "  #Quitar RT, puntuación, links, etc\n",
        "  remove_rt = lambda x: re.sub('RT @\\w+: ',\" \",x)\n",
        "  rt = lambda x: re.sub(\"(@[A-Za-z0–9]+)|([^0-9A-Za-zÀ-ÿ \\t])|(\\w+:\\/\\/\\S+)\",\" \",x)\n",
        "  tw_list.original = tw_list.original.map(remove_rt).map(rt)\n",
        "\n",
        "  #Convertir a minúsculas\n",
        "  tw_list.original = tw_list.original.str.lower()\n",
        "\n",
        "  #Quitar duplicado y resetear indices\n",
        "  tw_list.drop_duplicates(inplace=True)\n",
        "  tw_list = tw_list.reset_index(drop=True)\n",
        "\n",
        "  #No se en que momento se pierde el DF, seguro en el map\n",
        "  tw_list = pd.DataFrame(tw_list)\n",
        "  return tw_list"
      ],
      "execution_count": null,
      "outputs": []
    },
    {
      "cell_type": "code",
      "metadata": {
        "id": "pNNVazP9nosO"
      },
      "source": [
        "def sentimentAnalysis(tw_list):\n",
        "  #tw_list.columns = ['original']\n",
        "\n",
        "  translated_list = []\n",
        "  for tweet in tw_list['original']:\n",
        "\n",
        "    api_url = \"http://mymemory.translated.net/api/get?de=gabrielfjrfi@gmail.com&q={}&langpair={}|{}\".format(tweet, 'ca','en')\n",
        "    hdrs = {\n",
        "                    'User-Agent': 'Mozilla/5.0 (X11; Linux x86_64) AppleWebKit/537.11 (KHTML, like Gecko) Chrome/23.0.1271.64 Safari/537.11',\n",
        "                    'Accept': 'text/html,application/xhtml+xml,application/xml;q=0.9,*/*;q=0.8',\n",
        "                    'Accept-Charset': 'ISO-8859-1,utf-8;q=0.7,*;q=0.3',\n",
        "                    'Accept-Encoding': 'none',\n",
        "                    'Accept-Language': 'en-US,en;q=0.8',\n",
        "                    'Connection': 'keep-alive'\n",
        "            }\n",
        "    response = requests.get(api_url, headers=hdrs)\n",
        "    response_json = json.loads(response.text)\n",
        "    translation = response_json[\"responseData\"][\"translatedText\"]\n",
        "    translator_name = \"MemoryNet Translation Service\"\n",
        "    translated_list.append(translation)\n",
        "\n",
        "  #Crea una segunda columna con la traducción, entonces la primera tiene el original y la segunda el traducido\n",
        "  tw_list['traduccion'] = pd.DataFrame(translated_list)\n",
        "\n",
        "  tw_list[['polarity', 'subjectivity']] = tw_list['traduccion'].apply(lambda Text: pd.Series(TextBlob(Text).sentiment))\n",
        "  for index, row in tw_list['traduccion'].iteritems():\n",
        "    score = SentimentIntensityAnalyzer().polarity_scores(row)\n",
        "    neg = score['neg']\n",
        "    neu = score['neu']\n",
        "    pos = score['pos']\n",
        "    comp = score['compound']\n",
        "    if neg > pos:\n",
        "      tw_list.loc[index, 'sentiment'] = \"negative\"\n",
        "    elif pos > neg:\n",
        "      tw_list.loc[index, 'sentiment'] = \"positive\"\n",
        "    else:\n",
        "      tw_list.loc[index, 'sentiment'] = \"neutral\"\n",
        "\n",
        "    tw_list.loc[index, 'neg'] = neg\n",
        "    tw_list.loc[index, 'neu'] = neu\n",
        "    tw_list.loc[index, 'pos'] = pos\n",
        "    tw_list.loc[index, 'compound'] = comp\n",
        "\n",
        "  return tw_list"
      ],
      "execution_count": null,
      "outputs": []
    }
  ]
}